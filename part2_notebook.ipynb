{
 "cells": [
  {
   "cell_type": "code",
   "execution_count": 1,
   "id": "60cbdfaf",
   "metadata": {},
   "outputs": [],
   "source": [
    "import session_6_part2_assignment as s6"
   ]
  },
  {
   "cell_type": "code",
   "execution_count": 2,
   "id": "afbd741f",
   "metadata": {},
   "outputs": [
    {
     "name": "stdout",
     "output_type": "stream",
     "text": [
      "Help on module session_6_part2_assignment:\n",
      "\n",
      "NAME\n",
      "    session_6_part2_assignment - Session 6 - assignment 2\n",
      "\n",
      "FUNCTIONS\n",
      "    add_a_b(list_a: 'list', list_b: 'list') -> 'list'\n",
      "        This function returns a list a sum of a and b where a is even numbers from list_a & b is odd numbers from list_b\n",
      "        INPUT:\n",
      "            list_a : list of integers\n",
      "            list_b : list of integers\n",
      "        OUTPUT:\n",
      "            list of sum of a and b where a is even numbers from list_a and b is odd numbers from list_b\n",
      "    \n",
      "    add_even_numbers(lists: 'list') -> 'int'\n",
      "        This function adds all the even numbers in the list\n",
      "        INPUT: list\n",
      "        OUTPUT:\n",
      "            int: sum of even numbers\n",
      "    \n",
      "    add_third_number(lists: 'list') -> 'int'\n",
      "        This function adds every third number in a list\n",
      "        INPUT: list\n",
      "        OUTPUT:\n",
      "            int: sum of every third element in the list\n",
      "    \n",
      "    check_swear_words(para: 'str') -> 'bool'\n",
      "        This function checks if there are any swear words in the paragraph\n",
      "        INPUT:\n",
      "            para: 'str' : len(para)>200\n",
      "        OUTPUT:\n",
      "            'bool': True if swear word is present else False\n",
      "    \n",
      "    exp(x, /)\n",
      "        Return e raised to the power of x.\n",
      "    \n",
      "    highest_ascii_char(string: 'str') -> 'str'\n",
      "        This function returns the character with highest ascii value\n",
      "        INPUT: string\n",
      "        OUTPUT: \n",
      "            string with highest ascii value\n",
      "    \n",
      "    number_fibonacci(number: 'int') -> 'bool'\n",
      "        This function returns True if number is a fibonacci number \n",
      "        INPUT:\n",
      "            number : int : user input\n",
      "        OUTPUT:\n",
      "            True if number is a fibonacci number else False\n",
      "            \n",
      "        Fibonacci number: when [5*number*number + 4  or 5*number*number - 4] is a perfect square\n",
      "    \n",
      "    number_plates(limit: 'int' = 15) -> 'list'\n",
      "        This function returns list of n{limit: default=15} random number plates of the type KA DD AA DDDD \n",
      "        where 'KA' is state code\n",
      "               DD is 10<=DD<=99\n",
      "               AA is which a string from AA to ZZ\n",
      "               DDDD is 1000<=DDDD<=9999\n",
      "    \n",
      "    number_plates_user_choice(state_code: 'str', last_digit_start: 'int' = 1000, last_digit_end: 'int' = 9999, limit: 'int' = 15) -> 'list'\n",
      "        This function returns list of n{limit: default = 5} random number plates of the type AA DD AA DDDD \n",
      "        where 'AA' is state code\n",
      "               DD is 10<=DD<=99\n",
      "               AA is which a string from AA to ZZ\n",
      "               DDDD is 1000<=DDDD<=9999\n",
      "        \n",
      "        INPUT :\n",
      "            state_code : string {'KA','DL'}\n",
      "            last_digit_start: int : default = 1000: should be greater than or equal to 1000 & less than last_digit_end\n",
      "            last_digit_end: int : default = 9999: should be less then or equal to 9999\n",
      "            limit: int : default = 15\n",
      "            \n",
      "        OUTPUT:\n",
      "            list of number plates as user choice\n",
      "    \n",
      "    reduce(...)\n",
      "        reduce(function, sequence[, initial]) -> value\n",
      "        \n",
      "        Apply a function of two arguments cumulatively to the items of a sequence,\n",
      "        from left to right, so as to reduce the sequence to a single value.\n",
      "        For example, reduce(lambda x, y: x+y, [1, 2, 3, 4, 5]) calculates\n",
      "        ((((1+2)+3)+4)+5).  If initial is present, it is placed before the items\n",
      "        of the sequence in the calculation, and serves as a default when the\n",
      "        sequence is empty.\n",
      "    \n",
      "    shift_by_n(string: 'str', n: 'int' = 5) -> 'str'\n",
      "        This function shifts the character by n according to ascii values\n",
      "        INPUT: \n",
      "            string : 'str'\n",
      "            n : int : default = 5\n",
      "        OUTPUT:\n",
      "            string shifted by n characters\n",
      "        ASCII values: a = 97 to z = 122\n",
      "    \n",
      "    sigmoid(array: 'list') -> 'list'\n",
      "        This function returns a list of sigmoid values of array list\n",
      "        INPUT:\n",
      "            array : list\n",
      "        OUTPUT:\n",
      "            list of sigmoid values\n",
      "            \n",
      "        SIGMOID FUNCTION = 1/1+e^(-x)  : x can be int or float\n",
      "    \n",
      "    sqrt(x, /)\n",
      "        Return the square root of x.\n",
      "    \n",
      "    vowel_eraser(string: 'str') -> 'str'\n",
      "        This function returns a string eliminating the vowels\n",
      "        INPUT: string\n",
      "        OUTPUT: string without vowels (a,e,i,o,u)\n",
      "\n",
      "DATA\n",
      "    number_plate_partial = functools.partial(<function number_plates_user_...\n",
      "\n",
      "FILE\n",
      "    c:\\users\\anusha\\desktop\\python_course\\session-6-assignment-anusha-raju\\session_6_part2_assignment.py\n",
      "\n",
      "\n"
     ]
    }
   ],
   "source": [
    "help(s6)"
   ]
  },
  {
   "cell_type": "markdown",
   "id": "9b755993",
   "metadata": {},
   "source": [
    "# Fibonacci number"
   ]
  },
  {
   "cell_type": "code",
   "execution_count": 3,
   "id": "8660318e",
   "metadata": {},
   "outputs": [],
   "source": [
    "from session_6_part2_assignment import number_fibonacci"
   ]
  },
  {
   "cell_type": "code",
   "execution_count": 4,
   "id": "d79b5d79",
   "metadata": {},
   "outputs": [
    {
     "name": "stdout",
     "output_type": "stream",
     "text": [
      "Help on function number_fibonacci in module session_6_part2_assignment:\n",
      "\n",
      "number_fibonacci(number: 'int') -> 'bool'\n",
      "    This function returns True if number is a fibonacci number \n",
      "    INPUT:\n",
      "        number : int : user input\n",
      "    OUTPUT:\n",
      "        True if number is a fibonacci number else False\n",
      "        \n",
      "    Fibonacci number: when [5*number*number + 4  or 5*number*number - 4] is a perfect square\n",
      "\n"
     ]
    }
   ],
   "source": [
    "help(number_fibonacci)"
   ]
  },
  {
   "cell_type": "code",
   "execution_count": 5,
   "id": "2bb78b4c",
   "metadata": {},
   "outputs": [
    {
     "data": {
      "text/plain": [
       "' This function returns True if number is a fibonacci number \\n    INPUT:\\n        number : int : user input\\n    OUTPUT:\\n        True if number is a fibonacci number else False\\n        \\n    Fibonacci number: when [5*number*number + 4  or 5*number*number - 4] is a perfect square \\n    '"
      ]
     },
     "execution_count": 5,
     "metadata": {},
     "output_type": "execute_result"
    }
   ],
   "source": [
    "number_fibonacci.__doc__"
   ]
  },
  {
   "cell_type": "code",
   "execution_count": 6,
   "id": "37a77e3b",
   "metadata": {},
   "outputs": [
    {
     "data": {
      "text/plain": [
       "{'number': 'int', 'return': 'bool'}"
      ]
     },
     "execution_count": 6,
     "metadata": {},
     "output_type": "execute_result"
    }
   ],
   "source": [
    "number_fibonacci.__annotations__"
   ]
  },
  {
   "cell_type": "code",
   "execution_count": 7,
   "id": "59bfde76",
   "metadata": {},
   "outputs": [
    {
     "data": {
      "text/plain": [
       "False"
      ]
     },
     "execution_count": 7,
     "metadata": {},
     "output_type": "execute_result"
    }
   ],
   "source": [
    "number_fibonacci(65)"
   ]
  },
  {
   "cell_type": "code",
   "execution_count": 8,
   "id": "79c705b4",
   "metadata": {},
   "outputs": [
    {
     "data": {
      "text/plain": [
       "True"
      ]
     },
     "execution_count": 8,
     "metadata": {},
     "output_type": "execute_result"
    }
   ],
   "source": [
    "number_fibonacci(144)"
   ]
  },
  {
   "cell_type": "markdown",
   "id": "1ca551bb",
   "metadata": {},
   "source": [
    "# add_a_b"
   ]
  },
  {
   "cell_type": "code",
   "execution_count": 9,
   "id": "bd1ff02e",
   "metadata": {},
   "outputs": [],
   "source": [
    "from session_6_part2_assignment import add_a_b"
   ]
  },
  {
   "cell_type": "code",
   "execution_count": 10,
   "id": "568dcb76",
   "metadata": {},
   "outputs": [
    {
     "name": "stdout",
     "output_type": "stream",
     "text": [
      "Help on function add_a_b in module session_6_part2_assignment:\n",
      "\n",
      "add_a_b(list_a: 'list', list_b: 'list') -> 'list'\n",
      "    This function returns a list a sum of a and b where a is even numbers from list_a & b is odd numbers from list_b\n",
      "    INPUT:\n",
      "        list_a : list of integers\n",
      "        list_b : list of integers\n",
      "    OUTPUT:\n",
      "        list of sum of a and b where a is even numbers from list_a and b is odd numbers from list_b\n",
      "\n"
     ]
    }
   ],
   "source": [
    "help(add_a_b)"
   ]
  },
  {
   "cell_type": "code",
   "execution_count": 11,
   "id": "e61f5be9",
   "metadata": {},
   "outputs": [
    {
     "data": {
      "text/plain": [
       "' This function returns a list a sum of a and b where a is even numbers from list_a & b is odd numbers from list_b\\n    INPUT:\\n        list_a : list of integers\\n        list_b : list of integers\\n    OUTPUT:\\n        list of sum of a and b where a is even numbers from list_a and b is odd numbers from list_b\\n    '"
      ]
     },
     "execution_count": 11,
     "metadata": {},
     "output_type": "execute_result"
    }
   ],
   "source": [
    "add_a_b.__doc__"
   ]
  },
  {
   "cell_type": "code",
   "execution_count": 12,
   "id": "0778f040",
   "metadata": {},
   "outputs": [
    {
     "data": {
      "text/plain": [
       "{'list_a': 'list', 'list_b': 'list', 'return': 'list'}"
      ]
     },
     "execution_count": 12,
     "metadata": {},
     "output_type": "execute_result"
    }
   ],
   "source": [
    "add_a_b.__annotations__"
   ]
  },
  {
   "cell_type": "code",
   "execution_count": 13,
   "id": "b4a7eaef",
   "metadata": {},
   "outputs": [
    {
     "data": {
      "text/plain": [
       "[3, 9]"
      ]
     },
     "execution_count": 13,
     "metadata": {},
     "output_type": "execute_result"
    }
   ],
   "source": [
    "add_a_b([1,2,3,4,5,6],[1,1,2,2,3,3])"
   ]
  },
  {
   "cell_type": "markdown",
   "id": "5ef58b38",
   "metadata": {},
   "source": [
    "# vowel_eraser"
   ]
  },
  {
   "cell_type": "code",
   "execution_count": 14,
   "id": "e936bd6a",
   "metadata": {},
   "outputs": [],
   "source": [
    "from session_6_part2_assignment import vowel_eraser"
   ]
  },
  {
   "cell_type": "code",
   "execution_count": 15,
   "id": "1b1e427e",
   "metadata": {},
   "outputs": [
    {
     "name": "stdout",
     "output_type": "stream",
     "text": [
      "Help on function vowel_eraser in module session_6_part2_assignment:\n",
      "\n",
      "vowel_eraser(string: 'str') -> 'str'\n",
      "    This function returns a string eliminating the vowels\n",
      "    INPUT: string\n",
      "    OUTPUT: string without vowels (a,e,i,o,u)\n",
      "\n"
     ]
    }
   ],
   "source": [
    "help(vowel_eraser)"
   ]
  },
  {
   "cell_type": "code",
   "execution_count": 16,
   "id": "b744b1ab",
   "metadata": {},
   "outputs": [
    {
     "data": {
      "text/plain": [
       "' This function returns a string eliminating the vowels\\n    INPUT: string\\n    OUTPUT: string without vowels (a,e,i,o,u)\\n    '"
      ]
     },
     "execution_count": 16,
     "metadata": {},
     "output_type": "execute_result"
    }
   ],
   "source": [
    "vowel_eraser.__doc__"
   ]
  },
  {
   "cell_type": "code",
   "execution_count": 17,
   "id": "9cb102a2",
   "metadata": {},
   "outputs": [
    {
     "data": {
      "text/plain": [
       "{'string': 'str', 'return': 'str'}"
      ]
     },
     "execution_count": 17,
     "metadata": {},
     "output_type": "execute_result"
    }
   ],
   "source": [
    "vowel_eraser.__annotations__"
   ]
  },
  {
   "cell_type": "code",
   "execution_count": 18,
   "id": "c0c78f32",
   "metadata": {},
   "outputs": [
    {
     "data": {
      "text/plain": [
       "'hll wrld'"
      ]
     },
     "execution_count": 18,
     "metadata": {},
     "output_type": "execute_result"
    }
   ],
   "source": [
    "vowel_eraser('hello world')"
   ]
  },
  {
   "cell_type": "markdown",
   "id": "33a97d01",
   "metadata": {},
   "source": [
    "# sigmoid"
   ]
  },
  {
   "cell_type": "code",
   "execution_count": 19,
   "id": "63b9423b",
   "metadata": {},
   "outputs": [],
   "source": [
    "from session_6_part2_assignment import sigmoid"
   ]
  },
  {
   "cell_type": "code",
   "execution_count": 20,
   "id": "42f6a71e",
   "metadata": {},
   "outputs": [
    {
     "name": "stdout",
     "output_type": "stream",
     "text": [
      "Help on function sigmoid in module session_6_part2_assignment:\n",
      "\n",
      "sigmoid(array: 'list') -> 'list'\n",
      "    This function returns a list of sigmoid values of array list\n",
      "    INPUT:\n",
      "        array : list\n",
      "    OUTPUT:\n",
      "        list of sigmoid values\n",
      "        \n",
      "    SIGMOID FUNCTION = 1/1+e^(-x)  : x can be int or float\n",
      "\n"
     ]
    }
   ],
   "source": [
    "help(sigmoid)"
   ]
  },
  {
   "cell_type": "code",
   "execution_count": 21,
   "id": "87134db6",
   "metadata": {},
   "outputs": [
    {
     "data": {
      "text/plain": [
       "' This function returns a list of sigmoid values of array list\\n    INPUT:\\n        array : list\\n    OUTPUT:\\n        list of sigmoid values\\n        \\n    SIGMOID FUNCTION = 1/1+e^(-x)  : x can be int or float\\n    '"
      ]
     },
     "execution_count": 21,
     "metadata": {},
     "output_type": "execute_result"
    }
   ],
   "source": [
    "sigmoid.__doc__"
   ]
  },
  {
   "cell_type": "code",
   "execution_count": 22,
   "id": "c4fb4a52",
   "metadata": {},
   "outputs": [
    {
     "data": {
      "text/plain": [
       "{'array': 'list', 'return': 'list'}"
      ]
     },
     "execution_count": 22,
     "metadata": {},
     "output_type": "execute_result"
    }
   ],
   "source": [
    "sigmoid.__annotations__"
   ]
  },
  {
   "cell_type": "code",
   "execution_count": 23,
   "id": "5172ee00",
   "metadata": {},
   "outputs": [
    {
     "data": {
      "text/plain": [
       "[0.7310585786300049,\n",
       " 0.8807970779778823,\n",
       " 0.9525741268224334,\n",
       " 0.9820137900379085]"
      ]
     },
     "execution_count": 23,
     "metadata": {},
     "output_type": "execute_result"
    }
   ],
   "source": [
    "sigmoid([1,2,3,4])"
   ]
  },
  {
   "cell_type": "markdown",
   "id": "c35748ca",
   "metadata": {},
   "source": [
    "# shift_by_n"
   ]
  },
  {
   "cell_type": "code",
   "execution_count": 24,
   "id": "1073da69",
   "metadata": {},
   "outputs": [],
   "source": [
    "from session_6_part2_assignment import shift_by_n"
   ]
  },
  {
   "cell_type": "code",
   "execution_count": 25,
   "id": "d49bf79b",
   "metadata": {},
   "outputs": [
    {
     "name": "stdout",
     "output_type": "stream",
     "text": [
      "Help on function shift_by_n in module session_6_part2_assignment:\n",
      "\n",
      "shift_by_n(string: 'str', n: 'int' = 5) -> 'str'\n",
      "    This function shifts the character by n according to ascii values\n",
      "    INPUT: \n",
      "        string : 'str'\n",
      "        n : int : default = 5\n",
      "    OUTPUT:\n",
      "        string shifted by n characters\n",
      "    ASCII values: a = 97 to z = 122\n",
      "\n"
     ]
    }
   ],
   "source": [
    "help(shift_by_n)"
   ]
  },
  {
   "cell_type": "code",
   "execution_count": 26,
   "id": "9f260727",
   "metadata": {},
   "outputs": [
    {
     "data": {
      "text/plain": [
       "\" This function shifts the character by n according to ascii values\\n    INPUT: \\n        string : 'str'\\n        n : int : default = 5\\n    OUTPUT:\\n        string shifted by n characters\\n    ASCII values: a = 97 to z = 122\\n    \""
      ]
     },
     "execution_count": 26,
     "metadata": {},
     "output_type": "execute_result"
    }
   ],
   "source": [
    "shift_by_n.__doc__"
   ]
  },
  {
   "cell_type": "code",
   "execution_count": 27,
   "id": "4a9438f7",
   "metadata": {},
   "outputs": [
    {
     "data": {
      "text/plain": [
       "{'string': 'str', 'n': 'int', 'return': 'str'}"
      ]
     },
     "execution_count": 27,
     "metadata": {},
     "output_type": "execute_result"
    }
   ],
   "source": [
    "shift_by_n.__annotations__"
   ]
  },
  {
   "cell_type": "code",
   "execution_count": 28,
   "id": "9de19923",
   "metadata": {},
   "outputs": [
    {
     "data": {
      "text/plain": [
       "'mjqqtsbtwqi'"
      ]
     },
     "execution_count": 28,
     "metadata": {},
     "output_type": "execute_result"
    }
   ],
   "source": [
    "shift_by_n(\"hello world\")"
   ]
  },
  {
   "cell_type": "markdown",
   "id": "2089a180",
   "metadata": {},
   "source": [
    "# check_swear_words"
   ]
  },
  {
   "cell_type": "code",
   "execution_count": 29,
   "id": "d3429c1f",
   "metadata": {},
   "outputs": [],
   "source": [
    "from session_6_part2_assignment import check_swear_words"
   ]
  },
  {
   "cell_type": "code",
   "execution_count": 30,
   "id": "69b2e85e",
   "metadata": {},
   "outputs": [
    {
     "name": "stdout",
     "output_type": "stream",
     "text": [
      "Help on function check_swear_words in module session_6_part2_assignment:\n",
      "\n",
      "check_swear_words(para: 'str') -> 'bool'\n",
      "    This function checks if there are any swear words in the paragraph\n",
      "    INPUT:\n",
      "        para: 'str' : len(para)>200\n",
      "    OUTPUT:\n",
      "        'bool': True if swear word is present else False\n",
      "\n"
     ]
    }
   ],
   "source": [
    "help(check_swear_words)"
   ]
  },
  {
   "cell_type": "code",
   "execution_count": 31,
   "id": "24aa9932",
   "metadata": {},
   "outputs": [
    {
     "data": {
      "text/plain": [
       "\" This function checks if there are any swear words in the paragraph\\n    INPUT:\\n        para: 'str' : len(para)>200\\n    OUTPUT:\\n        'bool': True if swear word is present else False \\n    \""
      ]
     },
     "execution_count": 31,
     "metadata": {},
     "output_type": "execute_result"
    }
   ],
   "source": [
    "check_swear_words.__doc__"
   ]
  },
  {
   "cell_type": "code",
   "execution_count": 32,
   "id": "24409c03",
   "metadata": {},
   "outputs": [
    {
     "data": {
      "text/plain": [
       "{'para': 'str', 'return': 'bool'}"
      ]
     },
     "execution_count": 32,
     "metadata": {},
     "output_type": "execute_result"
    }
   ],
   "source": [
    "check_swear_words.__annotations__"
   ]
  },
  {
   "cell_type": "code",
   "execution_count": 37,
   "id": "ceaa1381",
   "metadata": {},
   "outputs": [],
   "source": [
    "para=\"What is Lorem Ipsum?\\\n",
    "Lorem Ipsum is simply dummy text of the printing and typesetting industry. Lorem Ipsum has been the industry's standard dummy text ever since the 1500s, when an unknown printer took a galley of type and scrambled it to make a type specimen book. It has survived not only five centuries, but also the leap into electronic typesetting, remaining essentially unchanged. It was popularised in the 1960s with the release of Letraset sheets containing Lorem Ipsum passages, and more recently with desktop publishing software like Aldus PageMaker including versions of Lorem Ipsum.\\\n",
    "Why do we use it?\\\n",
    "It is a long established fact that a reader will be distracted by the readable content of a page when looking at its layout. The point of using Lorem Ipsum is that it has a more-or-less normal distribution of letters, as opposed to using 'Content here, content here', making it look like readable English. Many desktop publishing packages and web page editors now use Lorem Ipsum as their default model text, and a search for 'lorem ipsum' will uncover many web sites still in their infancy. Various versions have evolved over the years, sometimes by accident, sometimes on purpose (injected humour and the like).\\\n",
    "Where does it come from?\\\n",
    "Contrary to popular belief, Lorem Ipsum is not simply random text. It has roots in a piece of classical Latin literature from 45 BC, making it over 2000 years old. Richard McClintock, a Latin professor at Hampden-Sydney College in Virginia, looked up one of the more obscure Latin words, consectetur, from a Lorem Ipsum passage, and going through the cites of the word in classical literature, discovered the undoubtable source. Lorem Ipsum comes from sections 1.10.32 and 1.10.33 of de Finibus Bonorum et Malorum (The Extremes of Good and Evil) by Cicero, written in 45 BC. This book is a treatise on the theory of ethics, very popular during the Renaissance. The first line of Lorem Ipsum, Lorem ipsum dolor sit amet.., comes from a line in section 1.10.32.\""
   ]
  },
  {
   "cell_type": "code",
   "execution_count": 38,
   "id": "a77a2164",
   "metadata": {},
   "outputs": [
    {
     "data": {
      "text/plain": [
       "\"What is Lorem Ipsum?Lorem Ipsum is simply dummy text of the printing and typesetting industry. Lorem Ipsum has been the industry's standard dummy text ever since the 1500s, when an unknown printer took a galley of type and scrambled it to make a type specimen book. It has survived not only five centuries, but also the leap into electronic typesetting, remaining essentially unchanged. It was popularised in the 1960s with the release of Letraset sheets containing Lorem Ipsum passages, and more recently with desktop publishing software like Aldus PageMaker including versions of Lorem Ipsum.Why do we use it?It is a long established fact that a reader will be distracted by the readable content of a page when looking at its layout. The point of using Lorem Ipsum is that it has a more-or-less normal distribution of letters, as opposed to using 'Content here, content here', making it look like readable English. Many desktop publishing packages and web page editors now use Lorem Ipsum as their default model text, and a search for 'lorem ipsum' will uncover many web sites still in their infancy. Various versions have evolved over the years, sometimes by accident, sometimes on purpose (injected humour and the like).Where does it come from?Contrary to popular belief, Lorem Ipsum is not simply random text. It has roots in a piece of classical Latin literature from 45 BC, making it over 2000 years old. Richard McClintock, a Latin professor at Hampden-Sydney College in Virginia, looked up one of the more obscure Latin words, consectetur, from a Lorem Ipsum passage, and going through the cites of the word in classical literature, discovered the undoubtable source. Lorem Ipsum comes from sections 1.10.32 and 1.10.33 of de Finibus Bonorum et Malorum (The Extremes of Good and Evil) by Cicero, written in 45 BC. This book is a treatise on the theory of ethics, very popular during the Renaissance. The first line of Lorem Ipsum, Lorem ipsum dolor sit amet.., comes from a line in section 1.10.32.\""
      ]
     },
     "execution_count": 38,
     "metadata": {},
     "output_type": "execute_result"
    }
   ],
   "source": [
    "para"
   ]
  },
  {
   "cell_type": "code",
   "execution_count": 41,
   "id": "501eea4a",
   "metadata": {},
   "outputs": [
    {
     "data": {
      "text/plain": [
       "False"
      ]
     },
     "execution_count": 41,
     "metadata": {},
     "output_type": "execute_result"
    }
   ],
   "source": [
    "check_swear_words(para)"
   ]
  },
  {
   "cell_type": "markdown",
   "id": "62d50c15",
   "metadata": {},
   "source": [
    "# add_even_numbers"
   ]
  },
  {
   "cell_type": "code",
   "execution_count": 42,
   "id": "308e165f",
   "metadata": {},
   "outputs": [],
   "source": [
    "from session_6_part2_assignment import add_even_numbers"
   ]
  },
  {
   "cell_type": "code",
   "execution_count": 43,
   "id": "75f969e0",
   "metadata": {},
   "outputs": [
    {
     "name": "stdout",
     "output_type": "stream",
     "text": [
      "Help on function add_even_numbers in module session_6_part2_assignment:\n",
      "\n",
      "add_even_numbers(lists: 'list') -> 'int'\n",
      "    This function adds all the even numbers in the list\n",
      "    INPUT: list\n",
      "    OUTPUT:\n",
      "        int: sum of even numbers\n",
      "\n"
     ]
    }
   ],
   "source": [
    "help(add_even_numbers)"
   ]
  },
  {
   "cell_type": "code",
   "execution_count": 44,
   "id": "dcde4992",
   "metadata": {},
   "outputs": [
    {
     "data": {
      "text/plain": [
       "' This function adds all the even numbers in the list\\n    INPUT: list\\n    OUTPUT:\\n        int: sum of even numbers\\n    '"
      ]
     },
     "execution_count": 44,
     "metadata": {},
     "output_type": "execute_result"
    }
   ],
   "source": [
    "add_even_numbers.__doc__"
   ]
  },
  {
   "cell_type": "code",
   "execution_count": 45,
   "id": "b9fab37c",
   "metadata": {},
   "outputs": [
    {
     "data": {
      "text/plain": [
       "{'lists': 'list', 'return': 'int'}"
      ]
     },
     "execution_count": 45,
     "metadata": {},
     "output_type": "execute_result"
    }
   ],
   "source": [
    "add_even_numbers.__annotations__"
   ]
  },
  {
   "cell_type": "code",
   "execution_count": 46,
   "id": "1fd41b07",
   "metadata": {},
   "outputs": [
    {
     "data": {
      "text/plain": [
       "20"
      ]
     },
     "execution_count": 46,
     "metadata": {},
     "output_type": "execute_result"
    }
   ],
   "source": [
    "add_even_numbers([1,2,3,4,5,6,7,8,9])"
   ]
  },
  {
   "cell_type": "markdown",
   "id": "1d1401c4",
   "metadata": {},
   "source": [
    "# highest_ascii_char"
   ]
  },
  {
   "cell_type": "code",
   "execution_count": 47,
   "id": "927c2c27",
   "metadata": {},
   "outputs": [],
   "source": [
    "from session_6_part2_assignment import highest_ascii_char"
   ]
  },
  {
   "cell_type": "code",
   "execution_count": 48,
   "id": "df2dcab6",
   "metadata": {},
   "outputs": [
    {
     "name": "stdout",
     "output_type": "stream",
     "text": [
      "Help on function highest_ascii_char in module session_6_part2_assignment:\n",
      "\n",
      "highest_ascii_char(string: 'str') -> 'str'\n",
      "    This function returns the character with highest ascii value\n",
      "    INPUT: string\n",
      "    OUTPUT: \n",
      "        string with highest ascii value\n",
      "\n"
     ]
    }
   ],
   "source": [
    "help(highest_ascii_char)"
   ]
  },
  {
   "cell_type": "code",
   "execution_count": 49,
   "id": "3545efcb",
   "metadata": {},
   "outputs": [
    {
     "data": {
      "text/plain": [
       "' This function returns the character with highest ascii value\\n    INPUT: string\\n    OUTPUT: \\n        string with highest ascii value\\n    '"
      ]
     },
     "execution_count": 49,
     "metadata": {},
     "output_type": "execute_result"
    }
   ],
   "source": [
    "highest_ascii_char.__doc__"
   ]
  },
  {
   "cell_type": "code",
   "execution_count": 50,
   "id": "cf7a6e59",
   "metadata": {},
   "outputs": [
    {
     "data": {
      "text/plain": [
       "{'string': 'str', 'return': 'str'}"
      ]
     },
     "execution_count": 50,
     "metadata": {},
     "output_type": "execute_result"
    }
   ],
   "source": [
    "highest_ascii_char.__annotations__"
   ]
  },
  {
   "cell_type": "code",
   "execution_count": 51,
   "id": "c4790d60",
   "metadata": {},
   "outputs": [
    {
     "data": {
      "text/plain": [
       "'w'"
      ]
     },
     "execution_count": 51,
     "metadata": {},
     "output_type": "execute_result"
    }
   ],
   "source": [
    "highest_ascii_char(\"hello world\")"
   ]
  },
  {
   "cell_type": "markdown",
   "id": "1fe8576c",
   "metadata": {},
   "source": [
    "# add_third_number"
   ]
  },
  {
   "cell_type": "code",
   "execution_count": 52,
   "id": "0b3ba6ef",
   "metadata": {},
   "outputs": [],
   "source": [
    "from session_6_part2_assignment import add_third_number"
   ]
  },
  {
   "cell_type": "code",
   "execution_count": 53,
   "id": "cc0e775d",
   "metadata": {},
   "outputs": [
    {
     "name": "stdout",
     "output_type": "stream",
     "text": [
      "Help on function add_third_number in module session_6_part2_assignment:\n",
      "\n",
      "add_third_number(lists: 'list') -> 'int'\n",
      "    This function adds every third number in a list\n",
      "    INPUT: list\n",
      "    OUTPUT:\n",
      "        int: sum of every third element in the list\n",
      "\n"
     ]
    }
   ],
   "source": [
    "help(add_third_number)"
   ]
  },
  {
   "cell_type": "code",
   "execution_count": 54,
   "id": "3cfa2b5e",
   "metadata": {},
   "outputs": [
    {
     "data": {
      "text/plain": [
       "' This function adds every third number in a list\\n    INPUT: list\\n    OUTPUT:\\n        int: sum of every third element in the list\\n    '"
      ]
     },
     "execution_count": 54,
     "metadata": {},
     "output_type": "execute_result"
    }
   ],
   "source": [
    "add_third_number.__doc__"
   ]
  },
  {
   "cell_type": "code",
   "execution_count": 55,
   "id": "bc90626b",
   "metadata": {},
   "outputs": [
    {
     "data": {
      "text/plain": [
       "{'lists': 'list', 'return': 'int'}"
      ]
     },
     "execution_count": 55,
     "metadata": {},
     "output_type": "execute_result"
    }
   ],
   "source": [
    "add_third_number.__annotations__"
   ]
  },
  {
   "cell_type": "code",
   "execution_count": 56,
   "id": "f2aeed1c",
   "metadata": {},
   "outputs": [
    {
     "data": {
      "text/plain": [
       "63"
      ]
     },
     "execution_count": 56,
     "metadata": {},
     "output_type": "execute_result"
    }
   ],
   "source": [
    "add_third_number([1,2,3,4,5,6,7,8,9,10,11,12,13,14,15,16,17,18,19,20])"
   ]
  },
  {
   "cell_type": "markdown",
   "id": "690d3ceb",
   "metadata": {},
   "source": [
    "# number_plates"
   ]
  },
  {
   "cell_type": "code",
   "execution_count": 57,
   "id": "69567c1e",
   "metadata": {},
   "outputs": [],
   "source": [
    "from session_6_part2_assignment import number_plates"
   ]
  },
  {
   "cell_type": "code",
   "execution_count": 58,
   "id": "c99effa3",
   "metadata": {},
   "outputs": [
    {
     "name": "stdout",
     "output_type": "stream",
     "text": [
      "Help on function number_plates in module session_6_part2_assignment:\n",
      "\n",
      "number_plates(limit: 'int' = 15) -> 'list'\n",
      "    This function returns list of n{limit: default=15} random number plates of the type KA DD AA DDDD \n",
      "    where 'KA' is state code\n",
      "           DD is 10<=DD<=99\n",
      "           AA is which a string from AA to ZZ\n",
      "           DDDD is 1000<=DDDD<=9999\n",
      "\n"
     ]
    }
   ],
   "source": [
    "help(number_plates)"
   ]
  },
  {
   "cell_type": "code",
   "execution_count": 59,
   "id": "ad6bb94d",
   "metadata": {},
   "outputs": [
    {
     "data": {
      "text/plain": [
       "\" This function returns list of n{limit: default=15} random number plates of the type KA DD AA DDDD \\n    where 'KA' is state code\\n           DD is 10<=DD<=99\\n           AA is which a string from AA to ZZ\\n           DDDD is 1000<=DDDD<=9999\\n    \""
      ]
     },
     "execution_count": 59,
     "metadata": {},
     "output_type": "execute_result"
    }
   ],
   "source": [
    "number_plates.__doc__"
   ]
  },
  {
   "cell_type": "code",
   "execution_count": 60,
   "id": "9c0ef31a",
   "metadata": {},
   "outputs": [
    {
     "data": {
      "text/plain": [
       "{'limit': 'int', 'return': 'list'}"
      ]
     },
     "execution_count": 60,
     "metadata": {},
     "output_type": "execute_result"
    }
   ],
   "source": [
    "number_plates.__annotations__"
   ]
  },
  {
   "cell_type": "code",
   "execution_count": 61,
   "id": "6e443755",
   "metadata": {},
   "outputs": [
    {
     "data": {
      "text/plain": [
       "['KA52EE1672',\n",
       " 'KA88OA7486',\n",
       " 'KA12TM2308',\n",
       " 'KA95HA5090',\n",
       " 'KA31VF1373',\n",
       " 'KA33KZ6151',\n",
       " 'KA63AO7852',\n",
       " 'KA62WY5895',\n",
       " 'KA91EO6394',\n",
       " 'KA83HG1375',\n",
       " 'KA82HM4407',\n",
       " 'KA29AV5780',\n",
       " 'KA97AV7318',\n",
       " 'KA29GS1851',\n",
       " 'KA32ZR4029']"
      ]
     },
     "execution_count": 61,
     "metadata": {},
     "output_type": "execute_result"
    }
   ],
   "source": [
    "number_plates()"
   ]
  },
  {
   "cell_type": "markdown",
   "id": "299780d7",
   "metadata": {},
   "source": [
    "# number_plates_user_choice"
   ]
  },
  {
   "cell_type": "code",
   "execution_count": 62,
   "id": "fea72b0c",
   "metadata": {},
   "outputs": [],
   "source": [
    "from session_6_part2_assignment import number_plates_user_choice"
   ]
  },
  {
   "cell_type": "code",
   "execution_count": 63,
   "id": "00231ca9",
   "metadata": {},
   "outputs": [
    {
     "name": "stdout",
     "output_type": "stream",
     "text": [
      "Help on function number_plates_user_choice in module session_6_part2_assignment:\n",
      "\n",
      "number_plates_user_choice(state_code: 'str', last_digit_start: 'int' = 1000, last_digit_end: 'int' = 9999, limit: 'int' = 15) -> 'list'\n",
      "    This function returns list of n{limit: default = 5} random number plates of the type AA DD AA DDDD \n",
      "    where 'AA' is state code\n",
      "           DD is 10<=DD<=99\n",
      "           AA is which a string from AA to ZZ\n",
      "           DDDD is 1000<=DDDD<=9999\n",
      "    \n",
      "    INPUT :\n",
      "        state_code : string {'KA','DL'}\n",
      "        last_digit_start: int : default = 1000: should be greater than or equal to 1000 & less than last_digit_end\n",
      "        last_digit_end: int : default = 9999: should be less then or equal to 9999\n",
      "        limit: int : default = 15\n",
      "        \n",
      "    OUTPUT:\n",
      "        list of number plates as user choice\n",
      "\n"
     ]
    }
   ],
   "source": [
    "help(number_plates_user_choice)"
   ]
  },
  {
   "cell_type": "code",
   "execution_count": 64,
   "id": "64dd67fa",
   "metadata": {},
   "outputs": [
    {
     "data": {
      "text/plain": [
       "\" This function returns list of n{limit: default = 5} random number plates of the type AA DD AA DDDD \\n    where 'AA' is state code\\n           DD is 10<=DD<=99\\n           AA is which a string from AA to ZZ\\n           DDDD is 1000<=DDDD<=9999\\n    \\n    INPUT :\\n        state_code : string {'KA','DL'}\\n        last_digit_start: int : default = 1000: should be greater than or equal to 1000 & less than last_digit_end\\n        last_digit_end: int : default = 9999: should be less then or equal to 9999\\n        limit: int : default = 15\\n        \\n    OUTPUT:\\n        list of number plates as user choice\\n    \""
      ]
     },
     "execution_count": 64,
     "metadata": {},
     "output_type": "execute_result"
    }
   ],
   "source": [
    "number_plates_user_choice.__doc__"
   ]
  },
  {
   "cell_type": "code",
   "execution_count": 65,
   "id": "9aa612a0",
   "metadata": {},
   "outputs": [
    {
     "data": {
      "text/plain": [
       "{'state_code': 'str',\n",
       " 'last_digit_start': 'int',\n",
       " 'last_digit_end': 'int',\n",
       " 'limit': 'int',\n",
       " 'return': 'list'}"
      ]
     },
     "execution_count": 65,
     "metadata": {},
     "output_type": "execute_result"
    }
   ],
   "source": [
    "number_plates_user_choice.__annotations__"
   ]
  },
  {
   "cell_type": "code",
   "execution_count": 66,
   "id": "1e3d580b",
   "metadata": {},
   "outputs": [
    {
     "data": {
      "text/plain": [
       "['KL38RP3678',\n",
       " 'KL71KO3899',\n",
       " 'KL58YO9357',\n",
       " 'KL87LQ5325',\n",
       " 'KL89MC2523',\n",
       " 'KL74NA7680',\n",
       " 'KL23VA9815',\n",
       " 'KL51DK9774',\n",
       " 'KL96BD7229',\n",
       " 'KL93FY5009',\n",
       " 'KL89GH5358',\n",
       " 'KL89MP2639',\n",
       " 'KL69ZU5860',\n",
       " 'KL37HR6503',\n",
       " 'KL51SI2520']"
      ]
     },
     "execution_count": 66,
     "metadata": {},
     "output_type": "execute_result"
    }
   ],
   "source": [
    "number_plates_user_choice('KL',2000)"
   ]
  },
  {
   "cell_type": "markdown",
   "id": "4c090d88",
   "metadata": {},
   "source": [
    "# number_plate_partial"
   ]
  },
  {
   "cell_type": "code",
   "execution_count": 67,
   "id": "f096d566",
   "metadata": {},
   "outputs": [],
   "source": [
    "from session_6_part2_assignment import number_plate_partial"
   ]
  },
  {
   "cell_type": "code",
   "execution_count": 68,
   "id": "c0635849",
   "metadata": {},
   "outputs": [
    {
     "name": "stdout",
     "output_type": "stream",
     "text": [
      "Help on partial object:\n",
      "\n",
      "class partial(builtins.object)\n",
      " |  partial(func, *args, **keywords) - new function with partial application\n",
      " |  of the given arguments and keywords.\n",
      " |  \n",
      " |  Methods defined here:\n",
      " |  \n",
      " |  __call__(self, /, *args, **kwargs)\n",
      " |      Call self as a function.\n",
      " |  \n",
      " |  __delattr__(self, name, /)\n",
      " |      Implement delattr(self, name).\n",
      " |  \n",
      " |  __getattribute__(self, name, /)\n",
      " |      Return getattr(self, name).\n",
      " |  \n",
      " |  __reduce__(...)\n",
      " |      Helper for pickle.\n",
      " |  \n",
      " |  __repr__(self, /)\n",
      " |      Return repr(self).\n",
      " |  \n",
      " |  __setattr__(self, name, value, /)\n",
      " |      Implement setattr(self, name, value).\n",
      " |  \n",
      " |  __setstate__(...)\n",
      " |  \n",
      " |  ----------------------------------------------------------------------\n",
      " |  Static methods defined here:\n",
      " |  \n",
      " |  __new__(*args, **kwargs) from builtins.type\n",
      " |      Create and return a new object.  See help(type) for accurate signature.\n",
      " |  \n",
      " |  ----------------------------------------------------------------------\n",
      " |  Data descriptors defined here:\n",
      " |  \n",
      " |  __dict__\n",
      " |  \n",
      " |  args\n",
      " |      tuple of arguments to future partial calls\n",
      " |  \n",
      " |  func\n",
      " |      function object to use in future partial calls\n",
      " |  \n",
      " |  keywords\n",
      " |      dictionary of keyword arguments to future partial calls\n",
      "\n"
     ]
    }
   ],
   "source": [
    "help(number_plate_partial)"
   ]
  },
  {
   "cell_type": "code",
   "execution_count": 71,
   "id": "9ea34571",
   "metadata": {},
   "outputs": [
    {
     "data": {
      "text/plain": [
       "functools.partial"
      ]
     },
     "execution_count": 71,
     "metadata": {},
     "output_type": "execute_result"
    }
   ],
   "source": [
    "type(number_plate_partial)"
   ]
  },
  {
   "cell_type": "code",
   "execution_count": 72,
   "id": "bab60670",
   "metadata": {},
   "outputs": [
    {
     "data": {
      "text/plain": [
       "['DL23LP2448',\n",
       " 'DL18TF2954',\n",
       " 'DL27RF9835',\n",
       " 'DL17AA8573',\n",
       " 'DL23IE4127',\n",
       " 'DL19XD1875',\n",
       " 'DL99FK2304',\n",
       " 'DL22AN1114',\n",
       " 'DL21AF6899',\n",
       " 'DL82NF6714',\n",
       " 'DL48UQ6744',\n",
       " 'DL81KS5945',\n",
       " 'DL29DR7685',\n",
       " 'DL98IO4890',\n",
       " 'DL35XR5695']"
      ]
     },
     "execution_count": 72,
     "metadata": {},
     "output_type": "execute_result"
    }
   ],
   "source": [
    "number_plate_partial('DL')"
   ]
  },
  {
   "cell_type": "code",
   "execution_count": 73,
   "id": "033df140",
   "metadata": {},
   "outputs": [
    {
     "data": {
      "text/plain": [
       "['KA64DX3749',\n",
       " 'KA33MS3354',\n",
       " 'KA51QE7194',\n",
       " 'KA92QN5435',\n",
       " 'KA83TK5773',\n",
       " 'KA36QG6165',\n",
       " 'KA77ML8534',\n",
       " 'KA39BG9226',\n",
       " 'KA10MV5548',\n",
       " 'KA73GK4372',\n",
       " 'KA45WL4493',\n",
       " 'KA25WC1409',\n",
       " 'KA95NO3788',\n",
       " 'KA95SO3042',\n",
       " 'KA74JT9347']"
      ]
     },
     "execution_count": 73,
     "metadata": {},
     "output_type": "execute_result"
    }
   ],
   "source": [
    "number_plate_partial(\"ka\")"
   ]
  }
 ],
 "metadata": {
  "kernelspec": {
   "display_name": "Python 3",
   "language": "python",
   "name": "python3"
  },
  "language_info": {
   "codemirror_mode": {
    "name": "ipython",
    "version": 3
   },
   "file_extension": ".py",
   "mimetype": "text/x-python",
   "name": "python",
   "nbconvert_exporter": "python",
   "pygments_lexer": "ipython3",
   "version": "3.8.8"
  }
 },
 "nbformat": 4,
 "nbformat_minor": 5
}
