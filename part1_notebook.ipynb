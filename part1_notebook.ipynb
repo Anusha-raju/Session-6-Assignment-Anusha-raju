{
 "cells": [
  {
   "cell_type": "code",
   "execution_count": 25,
   "id": "d47d9173",
   "metadata": {},
   "outputs": [],
   "source": [
    "import poker as po"
   ]
  },
  {
   "cell_type": "code",
   "execution_count": 26,
   "id": "69c82c13",
   "metadata": {},
   "outputs": [
    {
     "name": "stdout",
     "output_type": "stream",
     "text": [
      "Help on module poker:\n",
      "\n",
      "NAME\n",
      "    poker - poker module which is built to find out the winner when only 2 player are playing with one deck of cards\n",
      "\n",
      "FUNCTIONS\n",
      "    cards_evaluation(cards: 'list') -> 'tuple'\n",
      "        This function evaluates the cards of the players\n",
      "        INPUT:\n",
      "            takes a list of cards of one player\n",
      "        OUTPUT:\n",
      "            gives a tuple of \n",
      "                order : int : gives the ranking of the player cards based on standard poker rules\n",
      "                result : int : maximum value of card of the player\n",
      "    \n",
      "    check_sequence(lists: 'list') -> 'bool'\n",
      "        This function checks if the cards are in a sequence\n",
      "        INPUT: \n",
      "            this function takes a list\n",
      "        OUTPUT:\n",
      "            this function returns a bool value\n",
      "    \n",
      "    check_suits(lists: 'list') -> 'bool'\n",
      "        This function checks if the cards are of the same suit\n",
      "        INPUT: \n",
      "            this function takes a list\n",
      "        OUTPUT: \n",
      "            this function returns a bool value\n",
      "    \n",
      "    create_deck()\n",
      "        This function creates a deck without using list comprehensions\n",
      "    \n",
      "    create_deck_list_comprehension()\n",
      "        This function creates a deck using list comprehensions\n",
      "    \n",
      "    kind_counter(lists: 'list') -> 'tuple'\n",
      "        This function counts the kind of each card in the list\n",
      "        INPUT:\n",
      "            this function takes a list\n",
      "        OUTPUT:\n",
      "            returns a tuple of\n",
      "                result: int :gives the maximum value with maximum count\n",
      "                val: int : gives the count of result\n",
      "                no_pairs: int : number of pairs in the lists\n",
      "                full_house: bool : returns True if its a full-house\n",
      "    \n",
      "    poker(suits: 'list' = ['spades', 'clubs', 'hearts', 'diamonds'], values: 'list' = ['2', '3', '4', '5', '6', '7', '8', '9', 'jack', 'queen', 'king', 'ace'], number_of_players: 'int' = 2) -> 'tuple'\n",
      "        This function plays the game poker with 2 players and one deck\n",
      "        INPUT:\n",
      "            suits: list : list of all the suits : default = suits\n",
      "            values: list : list of all the values : default = values\n",
      "            number_of_players: int : number of players : default = 2\n",
      "        OUTPUT:\n",
      "            returns a tuple\n",
      "            player1: list of cards of player1\n",
      "            player2: list of card of player2\n",
      "            string: the result/winner of the game\n",
      "    \n",
      "    transform_cards(card: 'tuple') -> 'tuple'\n",
      "        This function changes the type of value from string to int\n",
      "        INPUT: \n",
      "            this function takes a card(type-tuple of value,suit)\n",
      "        OUTPUT: \n",
      "            this function returns a tuple of value,suit\n",
      "    \n",
      "    winner(player1: 'list', player2: 'list') -> 'str'\n",
      "        This function returns the winner of the game\n",
      "        INPUT:\n",
      "            takes two list of cards of players\n",
      "        OUTPUT:\n",
      "            returns the result/winner player\n",
      "\n",
      "DATA\n",
      "    suits = ['spades', 'clubs', 'hearts', 'diamonds']\n",
      "    values = ['2', '3', '4', '5', '6', '7', '8', '9', 'jack', 'queen', 'ki...\n",
      "    values_dict = {'2': 2, '3': 3, '4': 4, '5': 5, '6': 6, '7': 7, '8': 8,...\n",
      "\n",
      "FILE\n",
      "    c:\\users\\anusha\\desktop\\python_course\\session-6-assignment-anusha-raju\\poker.py\n",
      "\n",
      "\n"
     ]
    }
   ],
   "source": [
    "help(po)"
   ]
  },
  {
   "cell_type": "code",
   "execution_count": 27,
   "id": "15e98482",
   "metadata": {},
   "outputs": [],
   "source": [
    "import poker"
   ]
  },
  {
   "cell_type": "markdown",
   "id": "c0e0cd6d",
   "metadata": {},
   "source": [
    "## Create deck using list comprehension"
   ]
  },
  {
   "cell_type": "code",
   "execution_count": 28,
   "id": "5cc0eac0",
   "metadata": {},
   "outputs": [
    {
     "data": {
      "text/plain": [
       "[('2', 'spades'),\n",
       " ('2', 'clubs'),\n",
       " ('2', 'hearts'),\n",
       " ('2', 'diamonds'),\n",
       " ('3', 'spades'),\n",
       " ('3', 'clubs'),\n",
       " ('3', 'hearts'),\n",
       " ('3', 'diamonds'),\n",
       " ('4', 'spades'),\n",
       " ('4', 'clubs'),\n",
       " ('4', 'hearts'),\n",
       " ('4', 'diamonds'),\n",
       " ('5', 'spades'),\n",
       " ('5', 'clubs'),\n",
       " ('5', 'hearts'),\n",
       " ('5', 'diamonds'),\n",
       " ('6', 'spades'),\n",
       " ('6', 'clubs'),\n",
       " ('6', 'hearts'),\n",
       " ('6', 'diamonds'),\n",
       " ('7', 'spades'),\n",
       " ('7', 'clubs'),\n",
       " ('7', 'hearts'),\n",
       " ('7', 'diamonds'),\n",
       " ('8', 'spades'),\n",
       " ('8', 'clubs'),\n",
       " ('8', 'hearts'),\n",
       " ('8', 'diamonds'),\n",
       " ('9', 'spades'),\n",
       " ('9', 'clubs'),\n",
       " ('9', 'hearts'),\n",
       " ('9', 'diamonds'),\n",
       " ('jack', 'spades'),\n",
       " ('jack', 'clubs'),\n",
       " ('jack', 'hearts'),\n",
       " ('jack', 'diamonds'),\n",
       " ('queen', 'spades'),\n",
       " ('queen', 'clubs'),\n",
       " ('queen', 'hearts'),\n",
       " ('queen', 'diamonds'),\n",
       " ('king', 'spades'),\n",
       " ('king', 'clubs'),\n",
       " ('king', 'hearts'),\n",
       " ('king', 'diamonds'),\n",
       " ('ace', 'spades'),\n",
       " ('ace', 'clubs'),\n",
       " ('ace', 'hearts'),\n",
       " ('ace', 'diamonds')]"
      ]
     },
     "execution_count": 28,
     "metadata": {},
     "output_type": "execute_result"
    }
   ],
   "source": [
    "poker.create_deck_list_comprehension()"
   ]
  },
  {
   "cell_type": "code",
   "execution_count": 6,
   "id": "09c107a7",
   "metadata": {},
   "outputs": [
    {
     "data": {
      "text/plain": [
       "' This function creates a deck using list comprehensions'"
      ]
     },
     "execution_count": 6,
     "metadata": {},
     "output_type": "execute_result"
    }
   ],
   "source": [
    "poker.create_deck_list_comprehension.__doc__"
   ]
  },
  {
   "cell_type": "code",
   "execution_count": 7,
   "id": "3b7690c7",
   "metadata": {},
   "outputs": [
    {
     "name": "stdout",
     "output_type": "stream",
     "text": [
      "Help on function create_deck_list_comprehension in module poker:\n",
      "\n",
      "create_deck_list_comprehension()\n",
      "    This function creates a deck using list comprehensions\n",
      "\n"
     ]
    }
   ],
   "source": [
    "help(poker.create_deck_list_comprehension)"
   ]
  },
  {
   "cell_type": "markdown",
   "id": "03f6d239",
   "metadata": {},
   "source": [
    "## Creating deck without using list comprehension"
   ]
  },
  {
   "cell_type": "code",
   "execution_count": 8,
   "id": "33c800e1",
   "metadata": {},
   "outputs": [
    {
     "data": {
      "text/plain": [
       "[('2', 'spades'),\n",
       " ('2', 'clubs'),\n",
       " ('2', 'hearts'),\n",
       " ('2', 'diamonds'),\n",
       " ('3', 'spades'),\n",
       " ('3', 'clubs'),\n",
       " ('3', 'hearts'),\n",
       " ('3', 'diamonds'),\n",
       " ('4', 'spades'),\n",
       " ('4', 'clubs'),\n",
       " ('4', 'hearts'),\n",
       " ('4', 'diamonds'),\n",
       " ('5', 'spades'),\n",
       " ('5', 'clubs'),\n",
       " ('5', 'hearts'),\n",
       " ('5', 'diamonds'),\n",
       " ('6', 'spades'),\n",
       " ('6', 'clubs'),\n",
       " ('6', 'hearts'),\n",
       " ('6', 'diamonds'),\n",
       " ('7', 'spades'),\n",
       " ('7', 'clubs'),\n",
       " ('7', 'hearts'),\n",
       " ('7', 'diamonds'),\n",
       " ('8', 'spades'),\n",
       " ('8', 'clubs'),\n",
       " ('8', 'hearts'),\n",
       " ('8', 'diamonds'),\n",
       " ('9', 'spades'),\n",
       " ('9', 'clubs'),\n",
       " ('9', 'hearts'),\n",
       " ('9', 'diamonds'),\n",
       " ('jack', 'spades'),\n",
       " ('jack', 'clubs'),\n",
       " ('jack', 'hearts'),\n",
       " ('jack', 'diamonds'),\n",
       " ('queen', 'spades'),\n",
       " ('queen', 'clubs'),\n",
       " ('queen', 'hearts'),\n",
       " ('queen', 'diamonds'),\n",
       " ('king', 'spades'),\n",
       " ('king', 'clubs'),\n",
       " ('king', 'hearts'),\n",
       " ('king', 'diamonds'),\n",
       " ('ace', 'spades'),\n",
       " ('ace', 'clubs'),\n",
       " ('ace', 'hearts'),\n",
       " ('ace', 'diamonds')]"
      ]
     },
     "execution_count": 8,
     "metadata": {},
     "output_type": "execute_result"
    }
   ],
   "source": [
    "poker.create_deck()"
   ]
  },
  {
   "cell_type": "code",
   "execution_count": 10,
   "id": "48b41230",
   "metadata": {},
   "outputs": [
    {
     "data": {
      "text/plain": [
       "' This function creates a deck without using list comprehensions'"
      ]
     },
     "execution_count": 10,
     "metadata": {},
     "output_type": "execute_result"
    }
   ],
   "source": [
    "poker.create_deck.__doc__"
   ]
  },
  {
   "cell_type": "markdown",
   "id": "47a8a7ff",
   "metadata": {},
   "source": [
    "## Checking the poker function"
   ]
  },
  {
   "cell_type": "code",
   "execution_count": 18,
   "id": "94be6393",
   "metadata": {},
   "outputs": [],
   "source": [
    "from poker import poker"
   ]
  },
  {
   "cell_type": "code",
   "execution_count": 19,
   "id": "bd3384a1",
   "metadata": {},
   "outputs": [
    {
     "name": "stdout",
     "output_type": "stream",
     "text": [
      "Help on function poker in module poker:\n",
      "\n",
      "poker(suits: 'list' = ['spades', 'clubs', 'hearts', 'diamonds'], values: 'list' = ['2', '3', '4', '5', '6', '7', '8', '9', 'jack', 'queen', 'king', 'ace'], number_of_players: 'int' = 2) -> 'tuple'\n",
      "    This function plays the game poker with 2 players and one deck\n",
      "    INPUT:\n",
      "        suits: list : list of all the suits : default = suits\n",
      "        values: list : list of all the values : default = values\n",
      "        number_of_players: int : number of players : default = 2\n",
      "    OUTPUT:\n",
      "        returns a tuple\n",
      "        player1: list of cards of player1\n",
      "        player2: list of card of player2\n",
      "        string: the result/winner of the game\n",
      "\n"
     ]
    }
   ],
   "source": [
    "help(poker)"
   ]
  },
  {
   "cell_type": "code",
   "execution_count": 20,
   "id": "4ba21095",
   "metadata": {},
   "outputs": [
    {
     "data": {
      "text/plain": [
       "' This function plays the game poker with 2 players and one deck\\n    INPUT:\\n        suits: list : list of all the suits : default = suits\\n        values: list : list of all the values : default = values\\n        number_of_players: int : number of players : default = 2\\n    OUTPUT:\\n        returns a tuple\\n        player1: list of cards of player1\\n        player2: list of card of player2\\n        string: the result/winner of the game\\n    '"
      ]
     },
     "execution_count": 20,
     "metadata": {},
     "output_type": "execute_result"
    }
   ],
   "source": [
    "poker.__doc__"
   ]
  },
  {
   "cell_type": "code",
   "execution_count": 21,
   "id": "3891332b",
   "metadata": {},
   "outputs": [
    {
     "data": {
      "text/plain": [
       "{'suits': 'list',\n",
       " 'values': 'list',\n",
       " 'number_of_players': 'int',\n",
       " 'return': 'tuple'}"
      ]
     },
     "execution_count": 21,
     "metadata": {},
     "output_type": "execute_result"
    }
   ],
   "source": [
    "poker.__annotations__"
   ]
  },
  {
   "cell_type": "code",
   "execution_count": 22,
   "id": "d6194cd6",
   "metadata": {},
   "outputs": [
    {
     "data": {
      "text/plain": [
       "([(7, 'hearts'), (5, 'spades'), (2, 'hearts'), (12, 'clubs'), (11, 'clubs')],\n",
       " [(3, 'clubs'), (5, 'clubs'), (4, 'hearts'), (6, 'spades'), (2, 'diamonds')],\n",
       " 'player2')"
      ]
     },
     "execution_count": 22,
     "metadata": {},
     "output_type": "execute_result"
    }
   ],
   "source": [
    "poker()"
   ]
  },
  {
   "cell_type": "code",
   "execution_count": 23,
   "id": "78827ffb",
   "metadata": {},
   "outputs": [
    {
     "data": {
      "text/plain": [
       "([(2, 'clubs'), (3, 'clubs'), (3, 'diamonds'), (13, 'spades')],\n",
       " [(12, 'diamonds'), (2, 'spades'), (13, 'diamonds'), (11, 'spades')],\n",
       " 'player1')"
      ]
     },
     "execution_count": 23,
     "metadata": {},
     "output_type": "execute_result"
    }
   ],
   "source": [
    "poker()"
   ]
  },
  {
   "cell_type": "markdown",
   "id": "abadcef0",
   "metadata": {},
   "source": [
    "## Checking the winner function"
   ]
  },
  {
   "cell_type": "code",
   "execution_count": 12,
   "id": "de01b654",
   "metadata": {},
   "outputs": [],
   "source": [
    "from poker import winner"
   ]
  },
  {
   "cell_type": "code",
   "execution_count": 13,
   "id": "9b3dc498",
   "metadata": {},
   "outputs": [
    {
     "name": "stdout",
     "output_type": "stream",
     "text": [
      "Help on function winner in module poker:\n",
      "\n",
      "winner(player1: 'list', player2: 'list') -> 'str'\n",
      "    This function returns the winner of the game\n",
      "    INPUT:\n",
      "        takes two list of cards of players\n",
      "    OUTPUT:\n",
      "        returns the result/winner player\n",
      "\n"
     ]
    }
   ],
   "source": [
    "help(winner)"
   ]
  },
  {
   "cell_type": "code",
   "execution_count": 14,
   "id": "93c19c41",
   "metadata": {},
   "outputs": [
    {
     "data": {
      "text/plain": [
       "' This function returns the winner of the game\\n    INPUT:\\n        takes two list of cards of players\\n    OUTPUT:\\n        returns the result/winner player\\n    '"
      ]
     },
     "execution_count": 14,
     "metadata": {},
     "output_type": "execute_result"
    }
   ],
   "source": [
    "winner.__doc__"
   ]
  },
  {
   "cell_type": "code",
   "execution_count": 15,
   "id": "58960cad",
   "metadata": {},
   "outputs": [
    {
     "data": {
      "text/plain": [
       "{'player1': 'list', 'player2': 'list', 'return': 'str'}"
      ]
     },
     "execution_count": 15,
     "metadata": {},
     "output_type": "execute_result"
    }
   ],
   "source": [
    "winner.__annotations__"
   ]
  },
  {
   "cell_type": "code",
   "execution_count": 16,
   "id": "d9bfd7a9",
   "metadata": {},
   "outputs": [
    {
     "data": {
      "text/plain": [
       "'player2'"
      ]
     },
     "execution_count": 16,
     "metadata": {},
     "output_type": "execute_result"
    }
   ],
   "source": [
    "winner([(10, 'spades'), (12, 'hearts'), (5, 'clubs')], [(6, 'clubs'), (9, 'diamonds'), (6, 'hearts')])"
   ]
  },
  {
   "cell_type": "code",
   "execution_count": 17,
   "id": "57ce339f",
   "metadata": {},
   "outputs": [
    {
     "data": {
      "text/plain": [
       "'draw'"
      ]
     },
     "execution_count": 17,
     "metadata": {},
     "output_type": "execute_result"
    }
   ],
   "source": [
    "winner([(11, 'spades'), (8, 'clubs'), (9, 'clubs')],[(8, 'hearts'), (11, 'clubs'), (4, 'clubs')])"
   ]
  },
  {
   "cell_type": "markdown",
   "id": "2b4df35f",
   "metadata": {},
   "source": [
    "### Checking transform_cards function"
   ]
  },
  {
   "cell_type": "code",
   "execution_count": 11,
   "id": "b259e660",
   "metadata": {},
   "outputs": [
    {
     "data": {
      "text/plain": [
       "' This function changes the type of value from string to int\\n    INPUT: \\n        this function takes a card(type-tuple of value,suit)\\n    OUTPUT: \\n        this function returns a tuple of value,suit\\n    '"
      ]
     },
     "execution_count": 11,
     "metadata": {},
     "output_type": "execute_result"
    }
   ],
   "source": [
    "poker.transform_cards.__doc__"
   ]
  },
  {
   "cell_type": "code",
   "execution_count": 12,
   "id": "39b17e10",
   "metadata": {},
   "outputs": [
    {
     "name": "stdout",
     "output_type": "stream",
     "text": [
      "Help on function transform_cards in module poker:\n",
      "\n",
      "transform_cards(card: 'tuple') -> 'tuple'\n",
      "    This function changes the type of value from string to int\n",
      "    INPUT: \n",
      "        this function takes a card(type-tuple of value,suit)\n",
      "    OUTPUT: \n",
      "        this function returns a tuple of value,suit\n",
      "\n"
     ]
    }
   ],
   "source": [
    "help(poker.transform_cards)"
   ]
  },
  {
   "cell_type": "code",
   "execution_count": 13,
   "id": "b3c394f3",
   "metadata": {},
   "outputs": [
    {
     "data": {
      "text/plain": [
       "{'card': 'tuple', 'return': 'tuple'}"
      ]
     },
     "execution_count": 13,
     "metadata": {},
     "output_type": "execute_result"
    }
   ],
   "source": [
    "from poker import transform_cards\n",
    "transform_cards.__annotations__"
   ]
  },
  {
   "cell_type": "code",
   "execution_count": 17,
   "id": "5da82a11",
   "metadata": {},
   "outputs": [
    {
     "data": {
      "text/plain": [
       "(10, 'hearts')"
      ]
     },
     "execution_count": 17,
     "metadata": {},
     "output_type": "execute_result"
    }
   ],
   "source": [
    "transform_cards(('jack','hearts'))"
   ]
  },
  {
   "cell_type": "code",
   "execution_count": 19,
   "id": "cb03a0fc",
   "metadata": {},
   "outputs": [
    {
     "ename": "ValueError",
     "evalue": "Inappropriate card: Please enter appropriate card values!!!",
     "output_type": "error",
     "traceback": [
      "\u001b[1;31m---------------------------------------------------------------------------\u001b[0m",
      "\u001b[1;31mValueError\u001b[0m                                Traceback (most recent call last)",
      "\u001b[1;32m<ipython-input-19-419e70f93c4e>\u001b[0m in \u001b[0;36m<module>\u001b[1;34m\u001b[0m\n\u001b[0;32m      1\u001b[0m \u001b[1;31m#entering inappropriate values\u001b[0m\u001b[1;33m\u001b[0m\u001b[1;33m\u001b[0m\u001b[1;33m\u001b[0m\u001b[0m\n\u001b[0;32m      2\u001b[0m \u001b[1;31m#checking for ValueError\u001b[0m\u001b[1;33m\u001b[0m\u001b[1;33m\u001b[0m\u001b[1;33m\u001b[0m\u001b[0m\n\u001b[1;32m----> 3\u001b[1;33m \u001b[0mtransform_cards\u001b[0m\u001b[1;33m(\u001b[0m\u001b[1;33m(\u001b[0m\u001b[1;34m'11'\u001b[0m\u001b[1;33m,\u001b[0m\u001b[1;34m'spades'\u001b[0m\u001b[1;33m)\u001b[0m\u001b[1;33m)\u001b[0m \u001b[1;31m#right input is ('queen','spades')\u001b[0m\u001b[1;33m\u001b[0m\u001b[1;33m\u001b[0m\u001b[0m\n\u001b[0m",
      "\u001b[1;32m~\\Desktop\\python_course\\Session-6-Assignment-Anusha-raju\\poker.py\u001b[0m in \u001b[0;36mtransform_cards\u001b[1;34m(card)\u001b[0m\n\u001b[0;32m     35\u001b[0m     \u001b[0mvalue\u001b[0m\u001b[1;33m,\u001b[0m\u001b[0msuit\u001b[0m\u001b[1;33m=\u001b[0m\u001b[0mcard\u001b[0m \u001b[1;31m#unpacking the iterables\u001b[0m\u001b[1;33m\u001b[0m\u001b[1;33m\u001b[0m\u001b[0m\n\u001b[0;32m     36\u001b[0m     \u001b[1;32mif\u001b[0m \u001b[0mvalue\u001b[0m \u001b[1;32mnot\u001b[0m \u001b[1;32min\u001b[0m \u001b[0mvalues\u001b[0m \u001b[1;32mor\u001b[0m \u001b[0msuit\u001b[0m \u001b[1;32mnot\u001b[0m \u001b[1;32min\u001b[0m \u001b[0msuits\u001b[0m\u001b[1;33m:\u001b[0m \u001b[1;31m#checking for invalid values and suits\u001b[0m\u001b[1;33m\u001b[0m\u001b[1;33m\u001b[0m\u001b[0m\n\u001b[1;32m---> 37\u001b[1;33m         \u001b[1;32mraise\u001b[0m \u001b[0mValueError\u001b[0m\u001b[1;33m(\u001b[0m\u001b[1;34m\"Inappropriate card: Please enter appropriate card values!!!\"\u001b[0m\u001b[1;33m)\u001b[0m\u001b[1;33m\u001b[0m\u001b[1;33m\u001b[0m\u001b[0m\n\u001b[0m\u001b[0;32m     38\u001b[0m     \u001b[1;32melse\u001b[0m\u001b[1;33m:\u001b[0m\u001b[1;33m\u001b[0m\u001b[1;33m\u001b[0m\u001b[0m\n\u001b[0;32m     39\u001b[0m         \u001b[0mvalue\u001b[0m \u001b[1;33m=\u001b[0m \u001b[0mvalues_dict\u001b[0m\u001b[1;33m[\u001b[0m\u001b[0mvalue\u001b[0m\u001b[1;33m]\u001b[0m \u001b[1;31m#getting the int(value) using dict\u001b[0m\u001b[1;33m\u001b[0m\u001b[1;33m\u001b[0m\u001b[0m\n",
      "\u001b[1;31mValueError\u001b[0m: Inappropriate card: Please enter appropriate card values!!!"
     ]
    }
   ],
   "source": [
    "#entering inappropriate values\n",
    "#checking for ValueError\n",
    "transform_cards(('11','spades')) #right input is ('queen','spades')"
   ]
  },
  {
   "cell_type": "markdown",
   "id": "4c2f7f75",
   "metadata": {},
   "source": [
    "### Checking check_suits function"
   ]
  },
  {
   "cell_type": "code",
   "execution_count": 20,
   "id": "0bf64be4",
   "metadata": {},
   "outputs": [],
   "source": [
    "from poker import check_suits"
   ]
  },
  {
   "cell_type": "code",
   "execution_count": 21,
   "id": "a3bbd0d1",
   "metadata": {},
   "outputs": [
    {
     "name": "stdout",
     "output_type": "stream",
     "text": [
      "Help on function check_suits in module poker:\n",
      "\n",
      "check_suits(lists: 'list') -> 'bool'\n",
      "    This function checks if the cards are of the same suit\n",
      "    INPUT: \n",
      "        this function takes a list\n",
      "    OUTPUT: \n",
      "        this function returns a bool value\n",
      "\n"
     ]
    }
   ],
   "source": [
    "help(check_suits)"
   ]
  },
  {
   "cell_type": "code",
   "execution_count": 22,
   "id": "29d2bfdf",
   "metadata": {},
   "outputs": [
    {
     "data": {
      "text/plain": [
       "' This function checks if the cards are of the same suit\\n    INPUT: \\n        this function takes a list\\n    OUTPUT: \\n        this function returns a bool value\\n    '"
      ]
     },
     "execution_count": 22,
     "metadata": {},
     "output_type": "execute_result"
    }
   ],
   "source": [
    "check_suits.__doc__"
   ]
  },
  {
   "cell_type": "code",
   "execution_count": 23,
   "id": "8ba60af8",
   "metadata": {},
   "outputs": [
    {
     "data": {
      "text/plain": [
       "{'lists': 'list', 'return': 'bool'}"
      ]
     },
     "execution_count": 23,
     "metadata": {},
     "output_type": "execute_result"
    }
   ],
   "source": [
    "check_suits.__annotations__"
   ]
  },
  {
   "cell_type": "code",
   "execution_count": 24,
   "id": "5d276f6d",
   "metadata": {},
   "outputs": [
    {
     "data": {
      "text/plain": [
       "False"
      ]
     },
     "execution_count": 24,
     "metadata": {},
     "output_type": "execute_result"
    }
   ],
   "source": [
    "check_suits(['spades','clubs','hearts'])"
   ]
  },
  {
   "cell_type": "code",
   "execution_count": 25,
   "id": "719d2460",
   "metadata": {},
   "outputs": [
    {
     "data": {
      "text/plain": [
       "True"
      ]
     },
     "execution_count": 25,
     "metadata": {},
     "output_type": "execute_result"
    }
   ],
   "source": [
    "check_suits(['clubs','clubs','clubs'])"
   ]
  },
  {
   "cell_type": "markdown",
   "id": "0f7b026a",
   "metadata": {},
   "source": [
    "### Checking check_sequence function"
   ]
  },
  {
   "cell_type": "code",
   "execution_count": 26,
   "id": "38eba6fa",
   "metadata": {},
   "outputs": [],
   "source": [
    "from poker import check_sequence"
   ]
  },
  {
   "cell_type": "code",
   "execution_count": 27,
   "id": "d727d9e8",
   "metadata": {},
   "outputs": [
    {
     "name": "stdout",
     "output_type": "stream",
     "text": [
      "Help on function check_sequence in module poker:\n",
      "\n",
      "check_sequence(lists: 'list') -> 'bool'\n",
      "    This function checks if the cards are in a sequence\n",
      "    INPUT: \n",
      "        this function takes a list\n",
      "    OUTPUT:\n",
      "        this function returns a bool value\n",
      "\n"
     ]
    }
   ],
   "source": [
    "help(check_sequence)"
   ]
  },
  {
   "cell_type": "code",
   "execution_count": 28,
   "id": "4539338e",
   "metadata": {},
   "outputs": [
    {
     "data": {
      "text/plain": [
       "' This function checks if the cards are in a sequence\\n    INPUT: \\n        this function takes a list\\n    OUTPUT:\\n        this function returns a bool value\\n    '"
      ]
     },
     "execution_count": 28,
     "metadata": {},
     "output_type": "execute_result"
    }
   ],
   "source": [
    "check_sequence.__doc__"
   ]
  },
  {
   "cell_type": "code",
   "execution_count": 29,
   "id": "0cf0a0c3",
   "metadata": {},
   "outputs": [
    {
     "data": {
      "text/plain": [
       "{'lists': 'list', 'return': 'bool'}"
      ]
     },
     "execution_count": 29,
     "metadata": {},
     "output_type": "execute_result"
    }
   ],
   "source": [
    "check_sequence.__annotations__"
   ]
  },
  {
   "cell_type": "code",
   "execution_count": 30,
   "id": "9d1d793c",
   "metadata": {},
   "outputs": [
    {
     "data": {
      "text/plain": [
       "True"
      ]
     },
     "execution_count": 30,
     "metadata": {},
     "output_type": "execute_result"
    }
   ],
   "source": [
    "check_sequence([1,5,3,4,2])"
   ]
  },
  {
   "cell_type": "code",
   "execution_count": 31,
   "id": "38f1c8e4",
   "metadata": {},
   "outputs": [
    {
     "data": {
      "text/plain": [
       "False"
      ]
     },
     "execution_count": 31,
     "metadata": {},
     "output_type": "execute_result"
    }
   ],
   "source": [
    "check_sequence([9,6,3,7])"
   ]
  },
  {
   "cell_type": "markdown",
   "id": "6fdd7ce8",
   "metadata": {},
   "source": [
    "### Checking kind_counter function"
   ]
  },
  {
   "cell_type": "code",
   "execution_count": 1,
   "id": "073c2b94",
   "metadata": {},
   "outputs": [],
   "source": [
    "from poker import kind_counter"
   ]
  },
  {
   "cell_type": "code",
   "execution_count": 2,
   "id": "a63dc9f9",
   "metadata": {},
   "outputs": [
    {
     "name": "stdout",
     "output_type": "stream",
     "text": [
      "Help on function kind_counter in module poker:\n",
      "\n",
      "kind_counter(lists: 'list') -> 'tuple'\n",
      "    This function counts the kind of each card in the list\n",
      "    INPUT:\n",
      "        this function takes a list\n",
      "    OUTPUT:\n",
      "        returns a tuple of\n",
      "            result: int :gives the maximum value with maximum count\n",
      "            val: int : gives the count of result\n",
      "            no_pairs: int : number of pairs in the lists\n",
      "            full_house: bool : returns True if its a full-house\n",
      "\n"
     ]
    }
   ],
   "source": [
    "help(kind_counter)"
   ]
  },
  {
   "cell_type": "code",
   "execution_count": 3,
   "id": "709a2b60",
   "metadata": {},
   "outputs": [
    {
     "data": {
      "text/plain": [
       "' This function counts the kind of each card in the list\\n    INPUT:\\n        this function takes a list\\n    OUTPUT:\\n        returns a tuple of\\n            result: int :gives the maximum value with maximum count\\n            val: int : gives the count of result\\n            no_pairs: int : number of pairs in the lists\\n            full_house: bool : returns True if its a full-house\\n    '"
      ]
     },
     "execution_count": 3,
     "metadata": {},
     "output_type": "execute_result"
    }
   ],
   "source": [
    "kind_counter.__doc__"
   ]
  },
  {
   "cell_type": "code",
   "execution_count": 4,
   "id": "05ddd505",
   "metadata": {},
   "outputs": [
    {
     "data": {
      "text/plain": [
       "{'lists': 'list', 'return': 'tuple'}"
      ]
     },
     "execution_count": 4,
     "metadata": {},
     "output_type": "execute_result"
    }
   ],
   "source": [
    "kind_counter.__annotations__"
   ]
  },
  {
   "cell_type": "code",
   "execution_count": 5,
   "id": "74fe946d",
   "metadata": {},
   "outputs": [
    {
     "data": {
      "text/plain": [
       "(7, 1, 0, False)"
      ]
     },
     "execution_count": 5,
     "metadata": {},
     "output_type": "execute_result"
    }
   ],
   "source": [
    "kind_counter([3,5,7,2])"
   ]
  },
  {
   "cell_type": "markdown",
   "id": "06829538",
   "metadata": {},
   "source": [
    "### Checking cards_evaluation function"
   ]
  },
  {
   "cell_type": "code",
   "execution_count": 6,
   "id": "09d97972",
   "metadata": {},
   "outputs": [],
   "source": [
    "from poker import cards_evaluation"
   ]
  },
  {
   "cell_type": "code",
   "execution_count": 7,
   "id": "e62b4004",
   "metadata": {},
   "outputs": [
    {
     "name": "stdout",
     "output_type": "stream",
     "text": [
      "Help on function cards_evaluation in module poker:\n",
      "\n",
      "cards_evaluation(cards: 'list') -> 'tuple'\n",
      "    This function evaluates the cards of the players\n",
      "    INPUT:\n",
      "        takes a list of cards of one player\n",
      "    OUTPUT:\n",
      "        gives a tuple of \n",
      "            order : int : gives the ranking of the player cards based on standard poker rules\n",
      "            result : int : maximum value of card of the player\n",
      "\n"
     ]
    }
   ],
   "source": [
    "help(cards_evaluation)"
   ]
  },
  {
   "cell_type": "code",
   "execution_count": 8,
   "id": "229e81e0",
   "metadata": {},
   "outputs": [
    {
     "data": {
      "text/plain": [
       "' This function evaluates the cards of the players\\n    INPUT:\\n        takes a list of cards of one player\\n    OUTPUT:\\n        gives a tuple of \\n            order : int : gives the ranking of the player cards based on standard poker rules\\n            result : int : maximum value of card of the player\\n    '"
      ]
     },
     "execution_count": 8,
     "metadata": {},
     "output_type": "execute_result"
    }
   ],
   "source": [
    "cards_evaluation.__doc__"
   ]
  },
  {
   "cell_type": "code",
   "execution_count": 9,
   "id": "e758bb4b",
   "metadata": {},
   "outputs": [
    {
     "data": {
      "text/plain": [
       "{'cards': 'list', 'return': 'tuple'}"
      ]
     },
     "execution_count": 9,
     "metadata": {},
     "output_type": "execute_result"
    }
   ],
   "source": [
    "cards_evaluation.__annotations__"
   ]
  },
  {
   "cell_type": "code",
   "execution_count": 10,
   "id": "b22d0a10",
   "metadata": {},
   "outputs": [
    {
     "data": {
      "text/plain": [
       "(10, 12)"
      ]
     },
     "execution_count": 10,
     "metadata": {},
     "output_type": "execute_result"
    }
   ],
   "source": [
    "cards_evaluation([(7, 'diamonds'), (9, 'diamonds'), (12, 'diamonds'), (5, 'clubs')])"
   ]
  }
 ],
 "metadata": {
  "kernelspec": {
   "display_name": "Python 3",
   "language": "python",
   "name": "python3"
  },
  "language_info": {
   "codemirror_mode": {
    "name": "ipython",
    "version": 3
   },
   "file_extension": ".py",
   "mimetype": "text/x-python",
   "name": "python",
   "nbconvert_exporter": "python",
   "pygments_lexer": "ipython3",
   "version": "3.8.8"
  }
 },
 "nbformat": 4,
 "nbformat_minor": 5
}
